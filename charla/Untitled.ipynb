{
 "cells": [
  {
   "cell_type": "code",
   "execution_count": 1,
   "id": "633330ba-6ade-456c-876d-079082bf82a5",
   "metadata": {},
   "outputs": [],
   "source": [
    "import ipywidgets as widgets"
   ]
  },
  {
   "cell_type": "code",
   "execution_count": 10,
   "id": "fbb8f4cc-2ee4-4dcb-a624-d5540a525a5f",
   "metadata": {},
   "outputs": [
    {
     "data": {
      "application/vnd.jupyter.widget-view+json": {
       "model_id": "3fd4c80d395144bc80347ed91005c0e7",
       "version_major": 2,
       "version_minor": 0
      },
      "text/plain": [
       "IntSlider(value=0)"
      ]
     },
     "metadata": {},
     "output_type": "display_data"
    },
    {
     "name": "stdout",
     "output_type": "stream",
     "text": [
      "0\n"
     ]
    }
   ],
   "source": [
    "v = widgets.IntSlider()\n",
    "display(v)\n",
    "print(v.value)"
   ]
  },
  {
   "cell_type": "code",
   "execution_count": 11,
   "id": "9d835bcd-0e6a-4573-95c7-e4a6f4531f1f",
   "metadata": {},
   "outputs": [
    {
     "data": {
      "text/plain": [
       "0"
      ]
     },
     "execution_count": 11,
     "metadata": {},
     "output_type": "execute_result"
    }
   ],
   "source": [
    "current_value = slider.value\n",
    "current_value"
   ]
  },
  {
   "cell_type": "code",
   "execution_count": null,
   "id": "a08e8ebe-121b-4a1d-8b96-61e926c8d54b",
   "metadata": {},
   "outputs": [],
   "source": []
  }
 ],
 "metadata": {
  "kernelspec": {
   "display_name": "Python 3 (ipykernel)",
   "language": "python",
   "name": "python3"
  },
  "language_info": {
   "codemirror_mode": {
    "name": "ipython",
    "version": 3
   },
   "file_extension": ".py",
   "mimetype": "text/x-python",
   "name": "python",
   "nbconvert_exporter": "python",
   "pygments_lexer": "ipython3",
   "version": "3.11.1"
  }
 },
 "nbformat": 4,
 "nbformat_minor": 5
}
